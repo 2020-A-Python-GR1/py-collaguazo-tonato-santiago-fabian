{
 "cells": [
  {
   "cell_type": "markdown",
   "metadata": {},
   "source": [
    "#  Examen Santiago Collaguazo\n",
    "\n",
    "## 1) Crea un Dataframe de 10 registros y 6 columnas y consigue las 5 primeros y los 5 ultimos registros\n",
    "\n"
   ]
  },
  {
   "cell_type": "code",
   "execution_count": 6,
   "metadata": {},
   "outputs": [
    {
     "name": "stdout",
     "output_type": "stream",
     "text": [
      "Primeros 5 registros\n",
      "   0  1  2  3  4  5\n",
      "0  6  5  8  5  0  0\n",
      "1  3  2  4  5  0  9\n",
      "2  2  3  6  6  8  4\n",
      "3  9  7  5  5  6  9\n",
      "4  0  9  3  2  1  2\n",
      "Ultimos 5 registros\n",
      "   0  1  2  3  4  5\n",
      "5  8  4  3  0  0  8\n",
      "6  0  5  8  7  2  8\n",
      "7  2  5  5  7  3  8\n",
      "8  2  4  8  7  0  5\n",
      "9  9  6  1  0  4  9\n"
     ]
    }
   ],
   "source": [
    "import pandas as pd\n",
    "import numpy as np\n",
    "\n",
    "df1 = pd.DataFrame(np.random.randint(0,10,60).reshape(10,6))\n",
    "print('Primeros 5 registros')\n",
    "print(df1.head(5))\n",
    "print('Ultimos 5 registros')\n",
    "print(df1.tail(5))\n"
   ]
  },
  {
   "cell_type": "markdown",
   "metadata": {},
   "source": [
    "## 2) Crear un dataframe pasando un arreglo de numpy de 6 x 4 con una fecha como indice y con columnas A, B, C, D randomico\n",
    "\n",
    "```\n",
    "                   A         B         C         D\n",
    "2013-01-01  0.469112 -0.282863 -1.509059 -1.135632\n",
    "2013-01-02  1.212112 -0.173215  0.119209 -1.044236\n",
    "2013-01-03 -0.861849 -2.104569 -0.494929  1.071804\n",
    "2013-01-04  0.721555 -0.706771 -1.039575  0.271860\n",
    "2013-01-05 -0.424972  0.567020  0.276232 -1.087401\n",
    "2013-01-06 -0.673690  0.113648 -1.478427  0.524988\n",
    "```"
   ]
  },
  {
   "cell_type": "code",
   "execution_count": 12,
   "metadata": {},
   "outputs": [
    {
     "name": "stdout",
     "output_type": "stream",
     "text": [
      "            A  B  C  D\n",
      "2020-10-05  1  0  0  1\n",
      "2020-10-05  3  3  4  2\n",
      "2020-10-05  1  4  1  3\n",
      "2020-10-05  2  4  1  2\n",
      "2020-10-05  2  4  1  3\n",
      "2020-10-05  2  1  3  1\n"
     ]
    }
   ],
   "source": [
    "from datetime import date\n",
    "v2 = np.random.randint(0,5,24).reshape(6, 4)\n",
    "c = ['A', 'B', 'C', 'D']\n",
    "i = [date.today(),\n",
    "           date.today(),\n",
    "           date.today(),\n",
    "           date.today(),\n",
    "           date.today(),\n",
    "           date.today()]\n",
    "df2 = pd.DataFrame(v2, columns = c, index = i)\n",
    "print(df2)"
   ]
  },
  {
   "cell_type": "markdown",
   "metadata": {},
   "source": [
    "## 4) Crear un Dataframe con 10 registros y 6 columnas y con una propiedad del Dataframe mostrar las columnas, con otro comando mostrar los valores."
   ]
  },
  {
   "cell_type": "code",
   "execution_count": 17,
   "metadata": {},
   "outputs": [
    {
     "name": "stdout",
     "output_type": "stream",
     "text": [
      "Columnas\n",
      "  [0, 1, 2, 3, 4, 5]\n",
      "Valores\n",
      " [[2 5 9 9 4 1]\n",
      " [0 6 6 2 6 0]\n",
      " [1 3 3 5 2 9]\n",
      " [0 6 7 3 4 5]\n",
      " [2 1 6 6 4 1]\n",
      " [5 9 1 0 7 7]\n",
      " [1 8 1 7 5 0]\n",
      " [0 0 6 4 8 3]\n",
      " [1 4 4 4 8 9]\n",
      " [0 9 3 3 8 9]]\n"
     ]
    }
   ],
   "source": [
    "df4 = pd.DataFrame(np.random.randint(0,10,60).reshape(10, 6))\n",
    "print(\"Columnas\\n \", df4.columns.tolist())\n",
    "print(\"Valores\\n\", df4.values)"
   ]
  },
  {
   "cell_type": "markdown",
   "metadata": {},
   "source": [
    "## 5) Crear un Dataframe con 10 registros y 6 columnas y con una funcion del Dataframe describir estadisticamente el Dataframe"
   ]
  },
  {
   "cell_type": "code",
   "execution_count": 18,
   "metadata": {},
   "outputs": [
    {
     "name": "stdout",
     "output_type": "stream",
     "text": [
      "               0          1          2         3        4          5\n",
      "count  10.000000  10.000000  10.000000  10.00000  10.0000  10.000000\n",
      "mean    1.200000   5.100000   4.600000   4.30000   5.6000   4.400000\n",
      "std     1.549193   3.142893   2.633122   2.58414   2.1187   3.864367\n",
      "min     0.000000   0.000000   1.000000   0.00000   2.0000   0.000000\n",
      "25%     0.000000   3.250000   3.000000   3.00000   4.0000   1.000000\n",
      "50%     1.000000   5.500000   5.000000   4.00000   5.5000   4.000000\n",
      "75%     1.750000   7.500000   6.000000   5.75000   7.7500   8.500000\n",
      "max     5.000000   9.000000   9.000000   9.00000   8.0000   9.000000\n"
     ]
    }
   ],
   "source": [
    "df5 = pd.DataFrame(np.random.randint(0,10,60).reshape(10, 6))\n",
    "print(df4.describe())"
   ]
  },
  {
   "cell_type": "markdown",
   "metadata": {},
   "source": [
    "## 6) Crear un Dataframe con 10 registros y 6 columnas y con una funcion del Dataframe transponer los datos"
   ]
  },
  {
   "cell_type": "code",
   "execution_count": 19,
   "metadata": {},
   "outputs": [
    {
     "name": "stdout",
     "output_type": "stream",
     "text": [
      "   0  1  2  3  4  5  6  7  8  9\n",
      "0  3  1  4  9  0  6  6  1  5  3\n",
      "1  8  5  1  2  7  0  0  1  2  8\n",
      "2  3  4  9  2  6  3  2  3  4  4\n",
      "3  9  0  9  3  0  3  9  1  8  2\n",
      "4  2  1  7  0  5  9  6  1  9  8\n",
      "5  9  0  9  0  3  1  5  4  0  0\n"
     ]
    }
   ],
   "source": [
    "df6 = pd.DataFrame(np.random.randint(0,10,60).reshape(10, 6))\n",
    "print(df6.transpose())"
   ]
  },
  {
   "cell_type": "markdown",
   "metadata": {},
   "source": [
    "## 7) Crear un Dataframe con 10 registros y 6 columnas y Ordenar el dataframe 1 vez por cada columna, ascendente y descendente"
   ]
  },
  {
   "cell_type": "code",
   "execution_count": 21,
   "metadata": {},
   "outputs": [
    {
     "name": "stdout",
     "output_type": "stream",
     "text": [
      "   0  1  2  3  4  5\n",
      "0  0  0  2  1  1  0\n",
      "1  1  1  3  1  1  1\n",
      "2  2  2  3  3  2  2\n",
      "3  3  6  3  3  2  3\n",
      "4  3  7  4  3  4  4\n",
      "5  4  8  4  5  6  5\n",
      "6  4  8  5  5  7  5\n",
      "7  5  9  5  6  7  5\n",
      "8  6  9  6  7  8  5\n",
      "9  9  9  9  9  9  7\n",
      "\n",
      "    0  1  2  3  4  5\n",
      "0  9  9  9  9  9  7\n",
      "1  6  9  6  7  8  5\n",
      "2  5  9  5  6  7  5\n",
      "3  4  8  5  5  7  5\n",
      "4  4  8  4  5  6  5\n",
      "5  3  7  4  3  4  4\n",
      "6  3  6  3  3  2  3\n",
      "7  2  2  3  3  2  2\n",
      "8  1  1  3  1  1  1\n",
      "9  0  0  2  1  1  0\n"
     ]
    }
   ],
   "source": [
    "df7 = pd.DataFrame(np.random.randint(0,10,60).reshape(10, 6))\n",
    "df7_asc = df7.apply(lambda x: x.sort_values().values)\n",
    "df7_des = df7.apply(lambda x: x.sort_values(ascending = False).values)\n",
    "print(df7_asc)\n",
    "print(\"\\n\", df7_des)"
   ]
  },
  {
   "cell_type": "markdown",
   "metadata": {},
   "source": [
    "\n",
    "## 8) Crear un Dataframe con 10 registros y 6 columnas llenas de números randomicos del 1 al 10 y seleccionar en un nuevo Dataframe solo los valores mayores a 7"
   ]
  },
  {
   "cell_type": "code",
   "execution_count": 26,
   "metadata": {},
   "outputs": [
    {
     "name": "stdout",
     "output_type": "stream",
     "text": [
      "       0      1      2      3      4      5\n",
      "0   True   True   True  False  False  False\n",
      "1  False   True  False   True  False  False\n",
      "2  False  False  False  False   True   True\n",
      "3  False   True  False  False  False   True\n",
      "4  False  False  False  False  False   True\n",
      "5  False   True   True  False   True   True\n",
      "6  False  False  False   True  False  False\n",
      "7  False   True  False  False   True  False\n",
      "8   True  False  False  False  False   True\n",
      "9   True  False  False   True  False  False\n",
      "      0     1    2     3    4     5\n",
      "0   8.0   9.0  8.0   NaN  NaN   NaN\n",
      "1   NaN   9.0  NaN   8.0  NaN   NaN\n",
      "2   NaN   NaN  NaN   NaN  8.0   9.0\n",
      "3   NaN   9.0  NaN   NaN  NaN   8.0\n",
      "4   NaN   NaN  NaN   NaN  NaN   9.0\n",
      "5   NaN  10.0  9.0   NaN  8.0   9.0\n",
      "6   NaN   NaN  NaN  10.0  NaN   NaN\n",
      "7   NaN   9.0  NaN   NaN  9.0   NaN\n",
      "8   8.0   NaN  NaN   NaN  NaN  10.0\n",
      "9  10.0   NaN  NaN   9.0  NaN   NaN\n"
     ]
    }
   ],
   "source": [
    "df8 = pd.DataFrame(np.random.randint(1, 11,60).reshape(10,6))\n",
    "df8_may = df8 > 7\n",
    "print(df8_may)\n",
    "df8_may = df8[df8_may]\n",
    "print(df8_may)"
   ]
  },
  {
   "cell_type": "markdown",
   "metadata": {},
   "source": [
    "## 9) Crear un Dataframe con 10 registros y 6 columnas llenas de números randomicos del 1 al 10 o valores NaN. Luego llenar los valores NaN con 0."
   ]
  },
  {
   "cell_type": "code",
   "execution_count": 33,
   "metadata": {},
   "outputs": [
    {
     "name": "stdout",
     "output_type": "stream",
     "text": [
      "     0     1     2     3    4     5\n",
      "0  7.0   0.0   0.0  10.0  0.0   9.0\n",
      "1  0.0  10.0   8.0   7.0  0.0   0.0\n",
      "2  0.0   9.0  10.0   9.0  9.0  10.0\n",
      "3  0.0   0.0   7.0   8.0  7.0   8.0\n",
      "4  0.0   0.0   6.0   8.0  0.0   0.0\n",
      "5  0.0   7.0   6.0   0.0  6.0   0.0\n",
      "6  0.0   8.0   9.0   8.0  6.0   0.0\n",
      "7  9.0   0.0   0.0   0.0  0.0   0.0\n",
      "8  6.0  10.0   0.0   6.0  0.0   0.0\n",
      "9  7.0   7.0   9.0   0.0  0.0   9.0\n"
     ]
    }
   ],
   "source": [
    "df9 = pd.DataFrame(np.random.randint(1,11,60).reshape(10, 6))\n",
    "df9_nan = df9 > 5\n",
    "df9_nan = df9[df9_nan]\n",
    "print(df9_nan.fillna(0))"
   ]
  },
  {
   "cell_type": "markdown",
   "metadata": {},
   "source": [
    "## 10) Crear un Dataframe con 10 registros y 6 columnas llenas de números randomicos del 1 al 10 y sacar la media, la mediana, el promedio"
   ]
  },
  {
   "cell_type": "code",
   "execution_count": 35,
   "metadata": {},
   "outputs": [
    {
     "name": "stdout",
     "output_type": "stream",
     "text": [
      "Media 0    4.2\n",
      "1    6.9\n",
      "2    6.0\n",
      "3    6.2\n",
      "4    7.4\n",
      "5    5.6\n",
      "dtype: float64\n",
      "\n",
      "Mediana 0    4.0\n",
      "1    7.0\n",
      "2    5.0\n",
      "3    7.0\n",
      "4    8.0\n",
      "5    4.5\n",
      "dtype: float64\n",
      "\n",
      "Promedio 6.05\n"
     ]
    }
   ],
   "source": [
    "df10 = pd.DataFrame(np.random.randint(1,11,60).reshape(10, 6))\n",
    "print(\"Media\",df10.mean())\n",
    "print(\"\\nMediana\",df10.median())\n",
    "print(\"\\nPromedio\",np.average(df10))"
   ]
  },
  {
   "cell_type": "markdown",
   "metadata": {},
   "source": [
    "\n",
    "## 11) Crear un Dataframe con 10 registros y 6 columnas llenas de números randomicos del 1 al 10, luego crear otro dateframe con 10 registros y 6 columnas llenas de números randomicos del 1 al 10 y anadirlo al primer Dataframe"
   ]
  },
  {
   "cell_type": "code",
   "execution_count": 37,
   "metadata": {},
   "outputs": [
    {
     "name": "stdout",
     "output_type": "stream",
     "text": [
      "    0  1   2   3   4  5\n",
      "0  10  9   4   2   1  9\n",
      "1   9  8   8   5   7  7\n",
      "2  10  2   1   1   6  4\n",
      "3   1  9   3   9   6  6\n",
      "4   5  8   1   8   1  3\n",
      "5   6  1   1  10   3  9\n",
      "6   7  6   3  10   6  6\n",
      "7   9  3  10   4   1  1\n",
      "8   8  8  10   7   7  5\n",
      "9   7  8   3   5   5  8\n",
      "0   1  7   5   4   9  9\n",
      "1   4  4  10   1   2  1\n",
      "2  10  4   4   7   9  2\n",
      "3   4  8   8   9   9  8\n",
      "4   2  1   3   6   3  9\n",
      "5  10  7   7   8   9  6\n",
      "6   6  5   7   7   3  1\n",
      "7   9  9   3   6  10  5\n",
      "8  10  4   5   9   7  3\n",
      "9   4  5   1   6   7  6\n"
     ]
    }
   ],
   "source": [
    "df11_1 = pd.DataFrame(np.random.randint(1,11,60).reshape(10,6))\n",
    "df11_2 = pd.DataFrame(np.random.randint(1,11,60).reshape(10,6))\n",
    "df11 = df11_1.append(df11_2)\n",
    "print(df11)"
   ]
  },
  {
   "cell_type": "markdown",
   "metadata": {},
   "source": [
    "## 12) Crear un Dataframe con 10 registros y 6 columnas llenas de strings. Luego, unir la columna 1 y 2 en una sola, la 3 y 4, y la 5 y 6 concatenando su texto."
   ]
  },
  {
   "cell_type": "code",
   "execution_count": 44,
   "metadata": {},
   "outputs": [
    {
     "name": "stdout",
     "output_type": "stream",
     "text": [
      "      0     1     2\n",
      "0  bbbb  ffaa  ddaa\n",
      "1  ccaa  bbee  eecc\n",
      "2  ddcc  aaee  ddee\n",
      "3  cccc  ddbb  bbff\n",
      "4  eebb  ffee  bbbb\n",
      "5  bbcc  bbee  aadd\n",
      "6  eebb  aabb  ccdd\n",
      "7  dddd  ffee  eeaa\n",
      "8  ddcc  ddcc  ffbb\n",
      "9  aaee  ddbb  ccee\n"
     ]
    }
   ],
   "source": [
    "df12 = pd.DataFrame(np.random.choice(['aa','bb','cc','dd','ee','ff'], 60).reshape(10,6))\n",
    "df_unida = pd.DataFrame(df12[0]+df12[1])\n",
    "df_unida[1] = pd.DataFrame(df12[2]+df12[3])\n",
    "df_unida[2] = pd.DataFrame(df12[4]+df12[5])\n",
    "print(df_unida)"
   ]
  },
  {
   "cell_type": "markdown",
   "metadata": {},
   "source": [
    "## 13) Crear un Dataframe con 10 registros y 6 columnas llenas de números randomicos del 1 al 10 enteros, obtener la frecuencia de repeticion de los numeros enteros en cada columna"
   ]
  },
  {
   "cell_type": "code",
   "execution_count": 47,
   "metadata": {},
   "outputs": [
    {
     "name": "stdout",
     "output_type": "stream",
     "text": [
      "Dataframe\n",
      "     0   1   2  3   4   5\n",
      "0   7   7  10  9   9   5\n",
      "1   6   2   9  7  10   6\n",
      "2   3   1   7  4   4   5\n",
      "3   1   6   6  1   6  10\n",
      "4  10   1   2  7   6   3\n",
      "5   7   8  10  9   9   4\n",
      "6   5   8   2  6   8   9\n",
      "7   2  10   1  3  10   6\n",
      "8   5   3   6  4   1   6\n",
      "9   5   1   5  9   4   2\n",
      "\n",
      " 5     3\n",
      "7     2\n",
      "10    1\n",
      "6     1\n",
      "3     1\n",
      "2     1\n",
      "1     1\n",
      "Name: 0, dtype: int64\n",
      "\n",
      " 1     3\n",
      "8     2\n",
      "10    1\n",
      "7     1\n",
      "6     1\n",
      "3     1\n",
      "2     1\n",
      "Name: 1, dtype: int64\n",
      "\n",
      " 10    2\n",
      "6     2\n",
      "2     2\n",
      "9     1\n",
      "7     1\n",
      "5     1\n",
      "1     1\n",
      "Name: 2, dtype: int64\n",
      "\n",
      " 9    3\n",
      "7    2\n",
      "4    2\n",
      "6    1\n",
      "3    1\n",
      "1    1\n",
      "Name: 3, dtype: int64\n",
      "\n",
      " 10    2\n",
      "9     2\n",
      "6     2\n",
      "4     2\n",
      "8     1\n",
      "1     1\n",
      "Name: 4, dtype: int64\n",
      "\n",
      " 6     3\n",
      "5     2\n",
      "10    1\n",
      "9     1\n",
      "4     1\n",
      "3     1\n",
      "2     1\n",
      "Name: 5, dtype: int64\n"
     ]
    }
   ],
   "source": [
    "df13 = pd.DataFrame(np.random.randint(1,11,60).reshape(10, 6))\n",
    "print(\"Dataframe\\n\", df13)\n",
    "for col in df13.columns:\n",
    "    print(\"\\n\",df13[col].value_counts())"
   ]
  },
  {
   "cell_type": "markdown",
   "metadata": {},
   "source": [
    "## 14) Crear un Dataframe con 10 registros y 3 columnas, A B C, llenas de números randomicos del 1 al 10 enteros. Crear una nueva columna con el calculo por fila (A * B ) / C"
   ]
  },
  {
   "cell_type": "code",
   "execution_count": 48,
   "metadata": {},
   "outputs": [
    {
     "name": "stdout",
     "output_type": "stream",
     "text": [
      "    A   B  C        New\n",
      "0   7   3  3   7.000000\n",
      "1   8  10  4  20.000000\n",
      "2  10   4  4  10.000000\n",
      "3   7   7  2  24.500000\n",
      "4   2   2  7   0.571429\n",
      "5   7   2  5   2.800000\n",
      "6   3   9  1  27.000000\n",
      "7   4   6  4   6.000000\n",
      "8   3   7  2  10.500000\n",
      "9   5   9  8   5.625000\n"
     ]
    }
   ],
   "source": [
    "df14 = pd.DataFrame(np.random.randint(1,11,30).reshape(10, 3), columns = ['A', 'B', 'C'])\n",
    "resp = (df14['A']*df14['B'])/df14['C']\n",
    "df14['New'] = resp\n",
    "print(df14)"
   ]
  },
  {
   "cell_type": "code",
   "execution_count": null,
   "metadata": {},
   "outputs": [],
   "source": []
  }
 ],
 "metadata": {
  "kernelspec": {
   "display_name": "Python 3",
   "language": "python",
   "name": "python3"
  },
  "language_info": {
   "codemirror_mode": {
    "name": "ipython",
    "version": 3
   },
   "file_extension": ".py",
   "mimetype": "text/x-python",
   "name": "python",
   "nbconvert_exporter": "python",
   "pygments_lexer": "ipython3",
   "version": "3.7.6"
  }
 },
 "nbformat": 4,
 "nbformat_minor": 4
}
