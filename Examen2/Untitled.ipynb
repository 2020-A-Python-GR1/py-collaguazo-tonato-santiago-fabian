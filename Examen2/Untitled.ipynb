{
 "cells": [
  {
   "cell_type": "markdown",
   "metadata": {},
   "source": [
    "#  Examen Santiago Collaguazo\n",
    "\n",
    "## 1) Crea un Dataframe de 10 registros y 6 columnas y consigue las 5 primeros y los 5 ultimos registros\n",
    "\n"
   ]
  },
  {
   "cell_type": "code",
   "execution_count": 6,
   "metadata": {},
   "outputs": [
    {
     "name": "stdout",
     "output_type": "stream",
     "text": [
      "Primeros 5 registros\n",
      "   0  1  2  3  4  5\n",
      "0  6  5  8  5  0  0\n",
      "1  3  2  4  5  0  9\n",
      "2  2  3  6  6  8  4\n",
      "3  9  7  5  5  6  9\n",
      "4  0  9  3  2  1  2\n",
      "Ultimos 5 registros\n",
      "   0  1  2  3  4  5\n",
      "5  8  4  3  0  0  8\n",
      "6  0  5  8  7  2  8\n",
      "7  2  5  5  7  3  8\n",
      "8  2  4  8  7  0  5\n",
      "9  9  6  1  0  4  9\n"
     ]
    }
   ],
   "source": [
    "import pandas as pd\n",
    "import numpy as np\n",
    "\n",
    "df1 = pd.DataFrame(np.random.randint(0,10,60).reshape(10,6))\n",
    "print('Primeros 5 registros')\n",
    "print(df1.head(5))\n",
    "print('Ultimos 5 registros')\n",
    "print(df1.tail(5))\n"
   ]
  },
  {
   "cell_type": "markdown",
   "metadata": {},
   "source": [
    "## 2) Crear un dataframe pasando un arreglo de numpy de 6 x 4 con una fecha como indice y con columnas A, B, C, D randomico\n",
    "\n",
    "```\n",
    "                   A         B         C         D\n",
    "2013-01-01  0.469112 -0.282863 -1.509059 -1.135632\n",
    "2013-01-02  1.212112 -0.173215  0.119209 -1.044236\n",
    "2013-01-03 -0.861849 -2.104569 -0.494929  1.071804\n",
    "2013-01-04  0.721555 -0.706771 -1.039575  0.271860\n",
    "2013-01-05 -0.424972  0.567020  0.276232 -1.087401\n",
    "2013-01-06 -0.673690  0.113648 -1.478427  0.524988\n",
    "```"
   ]
  },
  {
   "cell_type": "code",
   "execution_count": 12,
   "metadata": {},
   "outputs": [
    {
     "name": "stdout",
     "output_type": "stream",
     "text": [
      "            A  B  C  D\n",
      "2020-10-05  1  0  0  1\n",
      "2020-10-05  3  3  4  2\n",
      "2020-10-05  1  4  1  3\n",
      "2020-10-05  2  4  1  2\n",
      "2020-10-05  2  4  1  3\n",
      "2020-10-05  2  1  3  1\n"
     ]
    }
   ],
   "source": [
    "from datetime import date\n",
    "v2 = np.random.randint(0,5,24).reshape(6, 4)\n",
    "c = ['A', 'B', 'C', 'D']\n",
    "i = [date.today(),\n",
    "           date.today(),\n",
    "           date.today(),\n",
    "           date.today(),\n",
    "           date.today(),\n",
    "           date.today()]\n",
    "df2 = pd.DataFrame(v2, columns = c, index = i)\n",
    "print(df2)"
   ]
  },
  {
   "cell_type": "markdown",
   "metadata": {},
   "source": [
    "## 4) Crear un Dataframe con 10 registros y 6 columnas y con una propiedad del Dataframe mostrar las columnas, con otro comando mostrar los valores."
   ]
  },
  {
   "cell_type": "code",
   "execution_count": 17,
   "metadata": {},
   "outputs": [
    {
     "name": "stdout",
     "output_type": "stream",
     "text": [
      "Columnas\n",
      "  [0, 1, 2, 3, 4, 5]\n",
      "Valores\n",
      " [[2 5 9 9 4 1]\n",
      " [0 6 6 2 6 0]\n",
      " [1 3 3 5 2 9]\n",
      " [0 6 7 3 4 5]\n",
      " [2 1 6 6 4 1]\n",
      " [5 9 1 0 7 7]\n",
      " [1 8 1 7 5 0]\n",
      " [0 0 6 4 8 3]\n",
      " [1 4 4 4 8 9]\n",
      " [0 9 3 3 8 9]]\n"
     ]
    }
   ],
   "source": [
    "df4 = pd.DataFrame(np.random.randint(0,10,60).reshape(10, 6))\n",
    "print(\"Columnas\\n \", df4.columns.tolist())\n",
    "print(\"Valores\\n\", df4.values)"
   ]
  },
  {
   "cell_type": "code",
   "execution_count": null,
   "metadata": {},
   "outputs": [],
   "source": []
  }
 ],
 "metadata": {
  "kernelspec": {
   "display_name": "Python 3",
   "language": "python",
   "name": "python3"
  },
  "language_info": {
   "codemirror_mode": {
    "name": "ipython",
    "version": 3
   },
   "file_extension": ".py",
   "mimetype": "text/x-python",
   "name": "python",
   "nbconvert_exporter": "python",
   "pygments_lexer": "ipython3",
   "version": "3.7.6"
  }
 },
 "nbformat": 4,
 "nbformat_minor": 4
}
