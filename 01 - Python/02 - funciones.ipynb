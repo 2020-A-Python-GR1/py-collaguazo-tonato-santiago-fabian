{
 "cells": [
  {
   "cell_type": "code",
   "execution_count": 1,
   "metadata": {},
   "outputs": [
    {
     "name": "stdout",
     "output_type": "stream",
     "text": [
      "Hola mundo\n"
     ]
    },
    {
     "data": {
      "text/plain": [
       "NoneType"
      ]
     },
     "execution_count": 1,
     "metadata": {},
     "output_type": "execute_result"
    }
   ],
   "source": [
    "#Funciones\n",
    "def hola_mundo():\n",
    "    print(\"Hola mundo\")\n",
    "type (hola_mundo())"
   ]
  },
  {
   "cell_type": "code",
   "execution_count": 4,
   "metadata": {},
   "outputs": [
    {
     "name": "stdout",
     "output_type": "stream",
     "text": [
      "La suma dde 2 y 3 es igual a 5\n"
     ]
    }
   ],
   "source": [
    "def sumar_dos_numeros(num_uno, num_dos):\n",
    "    return num_uno + num_dos\n",
    "#print (sumar_dos_numeros(2,3))\n",
    "total_suma = sumar_dos_numeros(2,3)\n",
    "print(f\"La suma de 2 y 3 es igual a {total_suma}\")"
   ]
  },
  {
   "cell_type": "code",
   "execution_count": 6,
   "metadata": {},
   "outputs": [
    {
     "name": "stdout",
     "output_type": "stream",
     "text": [
      "Universidad: EPN \n",
      "Universidad: ESPE \n"
     ]
    }
   ],
   "source": [
    "def imprimir_universidad(nombre=\"EPN\"): #Parametros Opcionales\n",
    "    print(f\"Universidad: {nombre} \")    #Parametros por defecto\n",
    "imprimir_universidad()\n",
    "imprimir_universidad(\"ESPE\")"
   ]
  },
  {
   "cell_type": "code",
   "execution_count": 10,
   "metadata": {},
   "outputs": [
    {
     "name": "stdout",
     "output_type": "stream",
     "text": [
      "Color: Blanco\n",
      "placa: ABC-1234\n",
      "Horse Power: 3000\n",
      "Año: 1989\n"
     ]
    }
   ],
   "source": [
    "# REGLA: 1) Primero parametros Requeridos\n",
    "#        2) Parametros Opcionales\n",
    "def imprimir_carro(color, placa, hp, anio=1989):\n",
    "    print(f\"Color: {color}\")\n",
    "    print(f\"Placa: {placa}\")\n",
    "    print(f\"Horse Power: {hp}\")\n",
    "    print(f\"Año: {anio}\")\n",
    "imprimir_carro(\"Blanco\", \"ABC-1234\", 3000)"
   ]
  },
  {
   "cell_type": "code",
   "execution_count": 11,
   "metadata": {},
   "outputs": [
    {
     "name": "stdout",
     "output_type": "stream",
     "text": [
      "Color: Blanco\n",
      "placa: DEF-456\n",
      "Horse Power: 2500\n",
      "Año: 1998\n"
     ]
    }
   ],
   "source": [
    "# Named Parameters (Parametros Nombrados)\n",
    "imprimir_carro(anio=1998, \n",
    "               placa = \"DEF-456\", \n",
    "               hp = 2500, \n",
    "               color = \"Blanco\")"
   ]
  },
  {
   "cell_type": "code",
   "execution_count": 16,
   "metadata": {},
   "outputs": [
    {
     "name": "stdout",
     "output_type": "stream",
     "text": [
      "Color: Negro\n",
      "placa: ABC-123\n",
      "Horse Power: 27272\n",
      "Año: 1995\n"
     ]
    }
   ],
   "source": [
    "# REGLA PODEMOS usar parametros por posicion y LUEGO TODOS LOS DEMAS\n",
    "#         PODEMOS usar parametros nombrados\n",
    "imprimir_carro(\"Negro\", \"ABC-123\", anio=1995, hp=27272)"
   ]
  },
  {
   "cell_type": "code",
   "execution_count": 24,
   "metadata": {},
   "outputs": [
    {
     "ename": "SyntaxError",
     "evalue": "invalid syntax (<ipython-input-24-d4f8512ae615>, line 12)",
     "output_type": "error",
     "traceback": [
      "\u001b[1;36m  File \u001b[1;32m\"<ipython-input-24-d4f8512ae615>\"\u001b[1;36m, line \u001b[1;32m12\u001b[0m\n\u001b[1;33m    print numeros(3)\u001b[0m\n\u001b[1;37m                ^\u001b[0m\n\u001b[1;31mSyntaxError\u001b[0m\u001b[1;31m:\u001b[0m invalid syntax\n"
     ]
    }
   ],
   "source": [
    "def sumar_numeros(primer_numero,\n",
    "                 *numeros):  #Parametros Infinitos\n",
    "    #print(primer_numero)\n",
    "    #print(numeros)\n",
    "    #print(type(numeros))\n",
    "    \n",
    "    suma = primer_numero\n",
    "    for numero in numeros:\n",
    "        suma = suma + numero\n",
    "    return suma\n",
    "sumar_numeros(1,2,3,4,5,6)"
   ]
  },
  {
   "cell_type": "code",
   "execution_count": 28,
   "metadata": {},
   "outputs": [
    {
     "name": "stdout",
     "output_type": "stream",
     "text": [
      "{'saludo': 'hola', 'mensaje': 'mundo'}\n",
      "<class 'dict'>\n"
     ]
    }
   ],
   "source": [
    "def establecer_configuracion(**kwargs):  #Key Word Arguments\n",
    "    print (kwargs)                       #Parametros Nombrados\n",
    "    print (type(kwargs))\n",
    "establecer_configuracion(saludo=\"hola\", mensaje = \"mundo\")"
   ]
  },
  {
   "cell_type": "code",
   "execution_count": 4,
   "metadata": {},
   "outputs": [
    {
     "name": "stdout",
     "output_type": "stream",
     "text": [
      ":)\n"
     ]
    }
   ],
   "source": [
    "# Reglas\n",
    "def ejemplo(requerido_uno, \n",
    "            requerido_dos,\n",
    "           opcional_1 = 1,\n",
    "           opcional_dos = 2,\n",
    "           *infinitos,\n",
    "           **kwargs):\n",
    "    print(\":)\")\n",
    "ejemplo(2,3)"
   ]
  },
  {
   "cell_type": "code",
   "execution_count": 18,
   "metadata": {},
   "outputs": [
    {
     "name": "stdout",
     "output_type": "stream",
     "text": [
      "Numero de iteracion: 0\n",
      "Numero de iteracion: 1\n",
      "Numero de iteracion: 2\n",
      "Numero de iteracion: 3\n",
      "Numero de iteracion: 4\n",
      "Numero de iteracion: 5\n",
      "Numero de iteracion: 6\n",
      "Numero de iteracion: 7\n",
      "Numero de iteracion: 8\n",
      "Numero de iteracion: 9\n"
     ]
    }
   ],
   "source": [
    "\n",
    "for indice in range(10):\n",
    "    print(f\"Numero de iteracion: {indice}\")"
   ]
  },
  {
   "cell_type": "code",
   "execution_count": 19,
   "metadata": {},
   "outputs": [],
   "source": [
    "def a(b):\n",
    "    c= open(b)"
   ]
  },
  {
   "cell_type": "code",
   "execution_count": 20,
   "metadata": {},
   "outputs": [
    {
     "ename": "SyntaxError",
     "evalue": "unexpected EOF while parsing (<ipython-input-20-5423d82578a5>, line 1)",
     "output_type": "error",
     "traceback": [
      "\u001b[1;36m  File \u001b[1;32m\"<ipython-input-20-5423d82578a5>\"\u001b[1;36m, line \u001b[1;32m1\u001b[0m\n\u001b[1;33m    class B(A):\u001b[0m\n\u001b[1;37m               ^\u001b[0m\n\u001b[1;31mSyntaxError\u001b[0m\u001b[1;31m:\u001b[0m unexpected EOF while parsing\n"
     ]
    }
   ],
   "source": [
    "class B(A):"
   ]
  },
  {
   "cell_type": "code",
   "execution_count": 21,
   "metadata": {},
   "outputs": [
    {
     "ename": "SyntaxError",
     "evalue": "invalid syntax (<ipython-input-21-a4e69e3cf13d>, line 1)",
     "output_type": "error",
     "traceback": [
      "\u001b[1;36m  File \u001b[1;32m\"<ipython-input-21-a4e69e3cf13d>\"\u001b[1;36m, line \u001b[1;32m1\u001b[0m\n\u001b[1;33m    \"\"Nombre\"\"\u001b[0m\n\u001b[1;37m           ^\u001b[0m\n\u001b[1;31mSyntaxError\u001b[0m\u001b[1;31m:\u001b[0m invalid syntax\n"
     ]
    }
   ],
   "source": [
    "\"\"Nombre\"\""
   ]
  },
  {
   "cell_type": "code",
   "execution_count": 22,
   "metadata": {},
   "outputs": [
    {
     "ename": "SyntaxError",
     "evalue": "EOL while scanning string literal (<ipython-input-22-015653d6ff9b>, line 1)",
     "output_type": "error",
     "traceback": [
      "\u001b[1;36m  File \u001b[1;32m\"<ipython-input-22-015653d6ff9b>\"\u001b[1;36m, line \u001b[1;32m1\u001b[0m\n\u001b[1;33m    ''''Nombre''''\u001b[0m\n\u001b[1;37m                  ^\u001b[0m\n\u001b[1;31mSyntaxError\u001b[0m\u001b[1;31m:\u001b[0m EOL while scanning string literal\n"
     ]
    }
   ],
   "source": [
    "''''Nombre''''"
   ]
  },
  {
   "cell_type": "code",
   "execution_count": 23,
   "metadata": {},
   "outputs": [
    {
     "ename": "SyntaxError",
     "evalue": "EOL while scanning string literal (<ipython-input-23-a71ce1c7f393>, line 1)",
     "output_type": "error",
     "traceback": [
      "\u001b[1;36m  File \u001b[1;32m\"<ipython-input-23-a71ce1c7f393>\"\u001b[1;36m, line \u001b[1;32m1\u001b[0m\n\u001b[1;33m    '\"''Nombre'\"''\u001b[0m\n\u001b[1;37m                  ^\u001b[0m\n\u001b[1;31mSyntaxError\u001b[0m\u001b[1;31m:\u001b[0m EOL while scanning string literal\n"
     ]
    }
   ],
   "source": [
    "'\"''Nombre'\"''"
   ]
  },
  {
   "cell_type": "code",
   "execution_count": 24,
   "metadata": {},
   "outputs": [
    {
     "data": {
      "text/plain": [
       "'Nombre'"
      ]
     },
     "execution_count": 24,
     "metadata": {},
     "output_type": "execute_result"
    }
   ],
   "source": [
    "\"\"\"Nombre\"\"\""
   ]
  },
  {
   "cell_type": "code",
   "execution_count": 25,
   "metadata": {},
   "outputs": [
    {
     "name": "stdout",
     "output_type": "stream",
     "text": [
      "c a\n"
     ]
    }
   ],
   "source": [
    "def a(b,c):\n",
    "    print(b,c)\n",
    "\n",
    "a(c=\"a\",b=\"c\")"
   ]
  },
  {
   "cell_type": "code",
   "execution_count": 26,
   "metadata": {},
   "outputs": [
    {
     "ename": "SyntaxError",
     "evalue": "EOL while scanning string literal (<ipython-input-26-410e2cf0eb62>, line 1)",
     "output_type": "error",
     "traceback": [
      "\u001b[1;36m  File \u001b[1;32m\"<ipython-input-26-410e2cf0eb62>\"\u001b[1;36m, line \u001b[1;32m1\u001b[0m\n\u001b[1;33m    def a('b):\u001b[0m\n\u001b[1;37m              ^\u001b[0m\n\u001b[1;31mSyntaxError\u001b[0m\u001b[1;31m:\u001b[0m EOL while scanning string literal\n"
     ]
    }
   ],
   "source": [
    "def a('b):\n",
    "    for c in b:\n",
    "        print(c)"
   ]
  },
  {
   "cell_type": "code",
   "execution_count": 27,
   "metadata": {},
   "outputs": [],
   "source": [
    "def a(**b):\n",
    "    print(f\"['a']\")"
   ]
  },
  {
   "cell_type": "code",
   "execution_count": 28,
   "metadata": {},
   "outputs": [
    {
     "ename": "SyntaxError",
     "evalue": "invalid syntax (<ipython-input-28-0214400187bb>, line 7)",
     "output_type": "error",
     "traceback": [
      "\u001b[1;36m  File \u001b[1;32m\"<ipython-input-28-0214400187bb>\"\u001b[1;36m, line \u001b[1;32m7\u001b[0m\n\u001b[1;33m    }[d]\u001b[0m\n\u001b[1;37m    ^\u001b[0m\n\u001b[1;31mSyntaxError\u001b[0m\u001b[1;31m:\u001b[0m invalid syntax\n"
     ]
    }
   ],
   "source": [
    "def a(b, c, d=\"s\"):\n",
    "    def x():\n",
    "        return b + c \n",
    "    def u():\n",
    "        return {\n",
    "            's': \n",
    "        }[d]"
   ]
  },
  {
   "cell_type": "code",
   "execution_count": 29,
   "metadata": {},
   "outputs": [
    {
     "name": "stdout",
     "output_type": "stream",
     "text": [
      "[5, 6, 7]\n"
     ]
    }
   ],
   "source": [
    "arregloNumeros = [1, 2, 3, 4, 5, 6, 7, 8, 9]\n",
    "print(arregloNumeros[-5:-2])"
   ]
  },
  {
   "cell_type": "code",
   "execution_count": null,
   "metadata": {},
   "outputs": [],
   "source": []
  }
 ],
 "metadata": {
  "kernelspec": {
   "display_name": "Python 3",
   "language": "python",
   "name": "python3"
  },
  "language_info": {
   "codemirror_mode": {
    "name": "ipython",
    "version": 3
   },
   "file_extension": ".py",
   "mimetype": "text/x-python",
   "name": "python",
   "nbconvert_exporter": "python",
   "pygments_lexer": "ipython3",
   "version": "3.7.6"
  }
 },
 "nbformat": 4,
 "nbformat_minor": 4
}
